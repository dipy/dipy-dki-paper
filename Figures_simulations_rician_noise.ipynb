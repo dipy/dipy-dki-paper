{
 "cells": [
  {
   "cell_type": "markdown",
   "metadata": {},
   "source": [
    "# Dipy Simulations (with Rician noise at different SNRs)"
   ]
  },
  {
   "cell_type": "markdown",
   "metadata": {},
   "source": [
    "First let's load relevant modules"
   ]
  },
  {
   "cell_type": "code",
   "execution_count": 1,
   "metadata": {},
   "outputs": [],
   "source": [
    "import numpy as np\n",
    "import nibabel as nib\n",
    "import matplotlib.pyplot as plt\n",
    "from dipy.core.sphere import disperse_charges, HemiSphere\n",
    "from dipy.sims.voxel import (multi_tensor_dki, single_tensor, multi_tensor, \n",
    "                             _check_directions, all_tensor_evecs)\n",
    "from dipy.data import (get_fnames, get_sphere)\n",
    "from dipy.io.gradients import read_bvals_bvecs\n",
    "from dipy.core.gradients import gradient_table\n",
    "from dipy.reconst.dti import (decompose_tensor, from_lower_triangular)\n",
    "from dipy.sims.voxel import add_noise\n",
    "from dipy.data import get_sphere\n",
    "from dipy.reconst.dti import fractional_anisotropy\n",
    "from dipy.viz import window, actor\n",
    "import dipy.reconst.dki as dki\n",
    "import dipy.reconst.dti as dti\n",
    "import dipy.reconst.msdki as msdki\n",
    "sphere = get_sphere('repulsion724')"
   ]
  },
  {
   "cell_type": "markdown",
   "metadata": {},
   "source": [
    "The synthetic signals for each set of ground truth parameters are generated according to the gradient directions and b-values of the CFIN dataset. So let's load a object containing the acquisition parameters of the CFIN dataset."
   ]
  },
  {
   "cell_type": "code",
   "execution_count": 2,
   "metadata": {},
   "outputs": [],
   "source": [
    "fraw, fbval, fbvec, t1_fname = get_fnames('cfin_multib')\n",
    "bvals, bvecs = read_bvals_bvecs(fbval, fbvec)\n",
    "gtab = gradient_table(bvals, bvecs)"
   ]
  },
  {
   "cell_type": "code",
   "execution_count": 3,
   "metadata": {},
   "outputs": [],
   "source": [
    "bval1000 = gtab.bvals == 1000\n",
    "bval2000 = gtab.bvals == 2000\n",
    "bval3000 = gtab.bvals == 3000\n",
    "bval_sel = bval1000 | bval2000 | bval3000"
   ]
  },
  {
   "cell_type": "code",
   "execution_count": 4,
   "metadata": {},
   "outputs": [],
   "source": [
    "bvals = gtab.bvals[bval_sel]\n",
    "bvecs = gtab.bvecs[bval_sel, :]\n",
    "\n",
    "# add 6 b-values\n",
    "bvals = np.hstack((np.zeros(6), bvals))\n",
    "bvecs = np.vstack((np.zeros((6, 3)), bvecs))\n",
    "gtab = gradient_table(bvals, bvecs)"
   ]
  },
  {
   "cell_type": "markdown",
   "metadata": {},
   "source": [
    "## Voxel case 2"
   ]
  },
  {
   "cell_type": "code",
   "execution_count": 5,
   "metadata": {},
   "outputs": [],
   "source": [
    "eval1 = [1.4e-3, 0.1e-3, 0.1e-3]\n",
    "eval2 = [2.0e-3, 0.5e-3, 0.5e-3]\n",
    "angle1 = (130.0, 0.0)\n",
    "angle2 = (130.0, 0.0)\n",
    "stick1 = _check_directions([angle1])\n",
    "stick2 = _check_directions([angle2])\n",
    "evec1 = all_tensor_evecs(stick1[0])\n",
    "evec2 = all_tensor_evecs(stick2[0])"
   ]
  },
  {
   "cell_type": "code",
   "execution_count": 6,
   "metadata": {},
   "outputs": [],
   "source": [
    "# Ground truth parameters\n",
    "mevals = [eval1, eval2]\n",
    "S0 = 1\n",
    "angles = [angle1, angle2]\n",
    "fractions = [50, 50]\n",
    "\n",
    "signal2_gt, st = multi_tensor(gtab, mevals, S0, angles, fractions, snr=None)\n",
    "\n",
    "dki_model = dki.DiffusionKurtosisModel(gtab, fit_method='NLS')\n",
    "dki_fit = dki_model.fit(signal2_gt)\n",
    "md_gt = dki_fit.md\n",
    "ad_gt = dki_fit.ad\n",
    "rd_gt = dki_fit.rd\n",
    "fa_gt = dki_fit.fa\n",
    "\n",
    "mk_gt = dki_fit.mk()\n",
    "ak_gt = dki_fit.ak()\n",
    "rk_gt = dki_fit.rk()\n",
    "kfa_gt = dki_fit.kfa\n",
    "mkt_gt = dki_fit.mkt()\n",
    "\n",
    "msdki_model = msdki.MeanDiffusionKurtosisModel(gtab)\n",
    "msdki_fit = msdki_model.fit(signal2_gt)\n",
    "msk_gt = msdki_fit.msk"
   ]
  },
  {
   "cell_type": "code",
   "execution_count": 7,
   "metadata": {},
   "outputs": [
    {
     "name": "stdout",
     "output_type": "stream",
     "text": [
      "10\n",
      "20\n",
      "30\n",
      "40\n",
      "50\n",
      "60\n",
      "70\n",
      "80\n",
      "90\n",
      "100\n"
     ]
    }
   ],
   "source": [
    "# Produce simulated signals for different SNRs\n",
    "SNRs = np.array([10, 20, 30, 40, 50, 60, 70, 80, 90, 100])\n",
    "nrep = 1000\n",
    "DWI_simulates = np.empty((SNRs.size, nrep, gtab.bvals.size))\n",
    "\n",
    "for si in range(10):\n",
    "    snri =  SNRs[si]\n",
    "    for ri in range(nrep):\n",
    "        signal2, st = multi_tensor(gtab, mevals, 1.0, angles, fractions, snr=snri)\n",
    "        DWI_simulates[si, ri, :] = signal2\n",
    "    print(snri)"
   ]
  },
  {
   "cell_type": "markdown",
   "metadata": {},
   "source": [
    "Let's fit DKI using DIPY's implementations"
   ]
  },
  {
   "cell_type": "code",
   "execution_count": 8,
   "metadata": {},
   "outputs": [],
   "source": [
    "dki_fit = dki_model.fit(DWI_simulates)\n",
    "MD = dki_fit.md\n",
    "AD = dki_fit.ad\n",
    "RD = dki_fit.rd\n",
    "FA = dki_fit.fa\n",
    "\n",
    "MK = dki_fit.mk()\n",
    "AK = dki_fit.ak()\n",
    "RK = dki_fit.rk()\n",
    "KFA = dki_fit.kfa\n",
    "MKT = dki_fit.mkt()\n",
    "\n",
    "msdki_fit = msdki_model.fit(DWI_simulates)\n",
    "MSK = msdki_fit.msk"
   ]
  },
  {
   "cell_type": "code",
   "execution_count": 9,
   "metadata": {},
   "outputs": [
    {
     "data": {
      "text/plain": [
       "(0.7, 0.9)"
      ]
     },
     "execution_count": 9,
     "metadata": {},
     "output_type": "execute_result"
    },
    {
     "data": {
      "image/png": "[encoded data removed]",
      "text/plain": [
       "<Figure size 864x216 with 4 Axes>"
      ]
     },
     "metadata": {
      "needs_background": "light"
     },
     "output_type": "display_data"
    }
   ],
   "source": [
    "fig, axs = plt.subplots(nrows=1, ncols=4, figsize=(12, 3))\n",
    "fig.subplots_adjust(hspace=1, wspace=0.3)\n",
    "\n",
    "# Initializing vectors for statistics\n",
    "median_p = np.empty(SNRs.size)\n",
    "lower_p = np.empty(SNRs.size)\n",
    "upper_p = np.empty(SNRs.size)\n",
    "\n",
    "for snri in range(SNRs.size):\n",
    "    median_p[snri] = np.median(MD[snri, :]*1000)\n",
    "    p25, p75 = np.percentile(MD[snri, :]*1000, [25, 75])\n",
    "    lower_p[snri] = median_p[snri] - p25 \n",
    "    upper_p[snri] = p75 - median_p[snri]\n",
    "\n",
    "axs[0].errorbar(SNRs, median_p, fmt='-', yerr=[lower_p, upper_p],\n",
    "                color=[0.0, 0.0, 0.8], ecolor= [0.0, 0.0, 0.8],\n",
    "                linewidth=1.0)\n",
    "axs[0].hlines(md_gt*1000, xmin=0, xmax=110, colors=[0, 0, 0])\n",
    "\n",
    "# Adjust properties of the first panel of the figure\n",
    "# axs[0].set_ylim([md_gt*1000*0.9, md_gt*1000*1.1])\n",
    "axs[0].set_xlim([0, 110])\n",
    "axs[0].set_xlabel('SNR', fontsize=14)\n",
    "axs[0].set_title('A.1) MD ($x10^{-3}mm^{2}/s$)', fontsize=14, pad=10)\n",
    "\n",
    "\n",
    "for snri in range(SNRs.size):\n",
    "    median_p[snri] = np.median(RD[snri, :]*1000)\n",
    "    p25, p75 = np.percentile(RD[snri, :]*1000, [25, 75])\n",
    "    lower_p[snri] = median_p[snri] - p25 \n",
    "    upper_p[snri] = p75 - median_p[snri]\n",
    "\n",
    "axs[1].errorbar(SNRs, median_p, fmt='-', yerr=[lower_p, upper_p],\n",
    "                color=[0.0, 0.0, 0.4], ecolor= [0.0, 0.0, 0.4],\n",
    "                linewidth=1.0)\n",
    "axs[1].hlines(rd_gt*1000, xmin=0, xmax=110, colors=[0, 0, 0])\n",
    "\n",
    "# Adjust properties of the first panel of the figure\n",
    "#axs[0].set_ylim([, 1.2])\n",
    "axs[1].set_xlim([0, 110])\n",
    "axs[1].set_xlabel('SNR', fontsize=14)\n",
    "axs[1].set_title('A.2) RD ($x10^{-3}mm^{2}/s$)', fontsize=14, pad=10)\n",
    "\n",
    "\n",
    "\n",
    "for snri in range(SNRs.size):\n",
    "    median_p[snri] = np.median(AD[snri, :]*1000)\n",
    "    p25, p75 = np.percentile(AD[snri, :]*1000, [25, 75])\n",
    "    lower_p[snri] = median_p[snri] - p25 \n",
    "    upper_p[snri] = p75 - median_p[snri]\n",
    "\n",
    "axs[2].errorbar(SNRs, median_p, fmt='-', yerr=[lower_p, upper_p],\n",
    "                color=[0.0, 0.8, 0.8], ecolor= [0.0, 0.8, 0.8],\n",
    "                linewidth=1.0)\n",
    "axs[2].hlines(ad_gt*1000, xmin=0, xmax=110, colors=[0, 0, 0])\n",
    "\n",
    "# Adjust properties of the first panel of the figure\n",
    "#axs[0].set_ylim([, 1.2])\n",
    "axs[2].set_xlim([0, 110])\n",
    "axs[2].set_xlabel('SNR', fontsize=14)\n",
    "axs[2].set_title('A.3) AD ($x10^{-3}mm^{2}/s$)', fontsize=14, pad=10)\n",
    "\n",
    "for snri in range(SNRs.size):\n",
    "    median_p[snri] = np.median(FA[snri, :])\n",
    "    p25, p75 = np.percentile(FA[snri, :], [25, 75])\n",
    "    lower_p[snri] = median_p[snri] - p25 \n",
    "    upper_p[snri] = p75 - median_p[snri]\n",
    "\n",
    "axs[3].errorbar(SNRs, median_p, fmt='-', yerr=[lower_p, upper_p],\n",
    "                color=[1.0, 0.0, 0.0], ecolor= [1.0, 0.0, 0.0],\n",
    "                linewidth=1.0)\n",
    "axs[3].hlines(fa_gt, xmin=0, xmax=110, colors=[0, 0, 0])\n",
    "\n",
    "# Adjust properties of the first panel of the figure\n",
    "axs[3].set_xlim([0, 110])\n",
    "axs[3].set_xlabel('SNR', fontsize=14)\n",
    "axs[3].set_title('A.4) FA', fontsize=14, pad=10)\n",
    "\n",
    "\n",
    "axs[0].set_ylim([0.7, 0.9])\n",
    "axs[1].set_ylim([0.2, 0.4])\n",
    "axs[2].set_ylim([1.6, 2.0])\n",
    "axs[3].set_ylim([0.7, 0.9])"
   ]
  },
  {
   "cell_type": "code",
   "execution_count": 10,
   "metadata": {
    "scrolled": false
   },
   "outputs": [
    {
     "data": {
      "text/plain": [
       "(0.3, 1.0)"
      ]
     },
     "execution_count": 10,
     "metadata": {},
     "output_type": "execute_result"
    },
    {
     "data": {
      "image/png": "[encoded data removed]",
      "text/plain": [
       "<Figure size 864x216 with 4 Axes>"
      ]
     },
     "metadata": {
      "needs_background": "light"
     },
     "output_type": "display_data"
    }
   ],
   "source": [
    "fig, axs = plt.subplots(nrows=1, ncols=4, figsize=(12, 3))\n",
    "fig.subplots_adjust(hspace=0.3, wspace=0.3)\n",
    "\n",
    "# Initializing vectors for statistics\n",
    "median_p = np.empty(SNRs.size)\n",
    "lower_p = np.empty(SNRs.size)\n",
    "upper_p = np.empty(SNRs.size)\n",
    "\n",
    "for snri in range(SNRs.size):\n",
    "    median_p[snri] = np.median(MK[snri, :])\n",
    "    p25, p75 = np.percentile(MK[snri, :], [25, 75])\n",
    "    lower_p[snri] = median_p[snri] - p25 \n",
    "    upper_p[snri] = p75 - median_p[snri]\n",
    "\n",
    "axs[0].errorbar(SNRs, median_p, fmt='-', yerr=[lower_p, upper_p],\n",
    "                color=[0.0, 0.8, 0.0], ecolor= [0.0, 0.8, 0.0],\n",
    "                linewidth=1.0)\n",
    "axs[0].hlines(mk_gt, xmin=0, xmax=110, colors=[0, 0, 0])\n",
    "\n",
    "# Adjust properties of the first panel of the figure\n",
    "# axs[0].set_ylim([md_gt*1000*0.9, md_gt*1000*1.1])\n",
    "axs[0].set_xlim([0, 110])\n",
    "axs[0].set_xlabel('SNR', fontsize=14)\n",
    "axs[0].set_title('A.5) MK', fontsize=14, pad=10)\n",
    "\n",
    "\n",
    "for snri in range(SNRs.size):\n",
    "    median_p[snri] = np.median(RK[snri, :])\n",
    "    p25, p75 = np.percentile(RK[snri, :], [25, 75])\n",
    "    lower_p[snri] = median_p[snri] - p25 \n",
    "    upper_p[snri] = p75 - median_p[snri]\n",
    "\n",
    "axs[1].errorbar(SNRs, median_p, fmt='-', yerr=[lower_p, upper_p],\n",
    "                color=[0.0, 0.5, 0.0], ecolor= [0.0, 0.5, 0.0],\n",
    "                linewidth=1.0)\n",
    "axs[1].hlines(rk_gt, xmin=0, xmax=110, colors=[0, 0, 0])\n",
    "\n",
    "# Adjust properties of the first panel of the figure\n",
    "#axs[0].set_ylim([, 1.2])\n",
    "axs[1].set_xlim([0, 110])\n",
    "axs[1].set_xlabel('SNR', fontsize=14)\n",
    "axs[1].set_title('A.6) RK', fontsize=14, pad=10)\n",
    "\n",
    "\n",
    "\n",
    "for snri in range(SNRs.size):\n",
    "    median_p[snri] = np.median(AK[snri, :])\n",
    "    p25, p75 = np.percentile(AK[snri, :], [25, 75])\n",
    "    lower_p[snri] = median_p[snri] - p25 \n",
    "    upper_p[snri] = p75 - median_p[snri]\n",
    "\n",
    "axs[2].errorbar(SNRs, median_p, fmt='-', yerr=[lower_p, upper_p],\n",
    "                color=[0.8, 0.8, 0.0], ecolor= [0.8, 0.8, 0.0],\n",
    "                linewidth=1.0)\n",
    "axs[2].hlines(ak_gt, xmin=0, xmax=110, colors=[0, 0, 0])\n",
    "\n",
    "# Adjust properties of the first panel of the figure\n",
    "#axs[0].set_ylim([, 1.2])\n",
    "axs[2].set_xlim([0, 110])\n",
    "axs[2].set_xlabel('SNR', fontsize=14)\n",
    "axs[2].set_title('A.7) AK', fontsize=14, pad=10)\n",
    "\n",
    "for snri in range(SNRs.size):\n",
    "    median_p[snri] = np.median(KFA[snri, :])\n",
    "    p25, p75 = np.percentile(KFA[snri, :], [25, 75])\n",
    "    lower_p[snri] = median_p[snri] - p25 \n",
    "    upper_p[snri] = p75 - median_p[snri]\n",
    "\n",
    "axs[3].errorbar(SNRs, median_p, fmt='-', yerr=[lower_p, upper_p],\n",
    "                color=[1, 0.5, 0.], ecolor=[1, 0.5, 0.],\n",
    "                linewidth=1.0)\n",
    "axs[3].hlines(kfa_gt, xmin=0, xmax=110, colors=[0, 0, 0])\n",
    "\n",
    "# Adjust properties of the first panel of the figure\n",
    "axs[3].set_xlim([0, 110])\n",
    "axs[3].set_xlabel('SNR', fontsize=14)\n",
    "axs[3].set_title('A.8) KFA', fontsize=14, pad=10)\n",
    "\n",
    "axs[0].set_ylim([0, 1])\n",
    "axs[1].set_ylim([0, 2])\n",
    "axs[2].set_ylim([0, 1])\n",
    "axs[3].set_ylim([0.3, 1])"
   ]
  },
  {
   "cell_type": "markdown",
   "metadata": {},
   "source": [
    "For a reference let's plot here the same plots for MSK and MKT. Note that MSK cannot be computed from pyDesigner"
   ]
  },
  {
   "cell_type": "code",
   "execution_count": 11,
   "metadata": {},
   "outputs": [
    {
     "data": {
      "text/plain": [
       "(0.0, 1.0, 0.0, 1.0)"
      ]
     },
     "execution_count": 11,
     "metadata": {},
     "output_type": "execute_result"
    },
    {
     "data": {
      "image/png": "[encoded data removed]",
      "text/plain": [
       "<Figure size 864x216 with 4 Axes>"
      ]
     },
     "metadata": {
      "needs_background": "light"
     },
     "output_type": "display_data"
    }
   ],
   "source": [
    "fig, axs = plt.subplots(nrows=1, ncols=4, figsize=(12, 3))\n",
    "fig.subplots_adjust(hspace=0.3, wspace=0.3)\n",
    "\n",
    "# Initializing vectors for statistics\n",
    "median_p = np.empty(SNRs.size)\n",
    "lower_p = np.empty(SNRs.size)\n",
    "upper_p = np.empty(SNRs.size)\n",
    "\n",
    "for snri in range(SNRs.size):\n",
    "    median_p[snri] = np.median(MKT[snri, :])\n",
    "    p25, p75 = np.percentile(MKT[snri, :], [25, 75])\n",
    "    lower_p[snri] = median_p[snri] - p25 \n",
    "    upper_p[snri] = p75 - median_p[snri]\n",
    "\n",
    "axs[0].errorbar(SNRs, median_p, fmt='-', yerr=[lower_p, upper_p],\n",
    "                color=[0.0, 0.8, 0.0], ecolor= [0.0, 0.8, 0.0],\n",
    "                linewidth=1.0)\n",
    "axs[0].hlines(mkt_gt, xmin=0, xmax=110, colors=[0, 0, 0])\n",
    "\n",
    "# Adjust properties of the first panel of the figure\n",
    "# axs[0].set_ylim([md_gt*1000*0.9, md_gt*1000*1.1])\n",
    "axs[0].set_xlim([0, 110])\n",
    "axs[0].set_xlabel('SNR', fontsize=14)\n",
    "axs[0].set_title('MKT', fontsize=14)\n",
    "\n",
    "for snri in range(SNRs.size):\n",
    "    median_p[snri] = np.median(MSK[snri, :])\n",
    "    p25, p75 = np.percentile(MSK[snri, :], [25, 75])\n",
    "    lower_p[snri] = median_p[snri] - p25 \n",
    "    upper_p[snri] = p75 - median_p[snri]\n",
    "\n",
    "axs[1].errorbar(SNRs, median_p, fmt='-', yerr=[lower_p, upper_p],\n",
    "                color=[0.2, 0.0, 0.4], ecolor= [0.2, 0.0, 0.4],\n",
    "                linewidth=1.0)\n",
    "axs[1].hlines(msk_gt, xmin=0, xmax=110, colors=[0, 0, 0])\n",
    "\n",
    "# Adjust properties of the first panel of the figure\n",
    "#axs[0].set_ylim([, 1.2])\n",
    "axs[1].set_xlim([0, 110])\n",
    "axs[1].set_xlabel('SNR', fontsize=14)\n",
    "axs[1].set_title('MSK', fontsize=14)\n",
    "\n",
    "axs[2].axis('off')\n",
    "axs[3].axis('off')"
   ]
  },
  {
   "cell_type": "markdown",
   "metadata": {},
   "source": [
    "Let's now run pydesigner using its default fitting routine with no parameter constraints."
   ]
  },
  {
   "cell_type": "code",
   "execution_count": 12,
   "metadata": {},
   "outputs": [],
   "source": [
    "from designer.fitting.dwipy import DWI\n",
    "\n",
    "# We have to save the data in nii, bvec and bvals files according to pydesigner requirements\n",
    "np.savetxt('dwi.bvals', bvals)\n",
    "np.savetxt('dwi.bvecs', bvecs.T)\n",
    "nib.save(nib.Nifti1Image(DWI_simulates.reshape((10, 100, 10, gtab.bvals.shape[0])), np.eye(4)), \"sim.nii.gz\")"
   ]
  },
  {
   "cell_type": "code",
   "execution_count": 13,
   "metadata": {},
   "outputs": [
    {
     "name": "stdout",
     "output_type": "stream",
     "text": [
      "No brain mask supplied\n",
      "Image sim.nii.nii loaded successfully\n",
      "Processing with 8 workers...\n"
     ]
    }
   ],
   "source": [
    "my_dwi = DWI(\"sim.nii.gz\", bvecPath='dwi.bvecs', bvalPath='dwi.bvals')"
   ]
  },
  {
   "cell_type": "code",
   "execution_count": 14,
   "metadata": {},
   "outputs": [
    {
     "name": "stderr",
     "output_type": "stream",
     "text": [
      "Unconstrained Tensor Fit: [100%]\n"
     ]
    }
   ],
   "source": [
    "my_dwi.fit()"
   ]
  },
  {
   "cell_type": "code",
   "execution_count": 15,
   "metadata": {},
   "outputs": [
    {
     "name": "stderr",
     "output_type": "stream",
     "text": [
      "DTI Parameters: [100%]\n"
     ]
    }
   ],
   "source": [
    "md, rd, ad, fa, fe, trace  = my_dwi.extractDTI()"
   ]
  },
  {
   "cell_type": "code",
   "execution_count": 16,
   "metadata": {},
   "outputs": [
    {
     "name": "stderr",
     "output_type": "stream",
     "text": [
      "DKI Parameters: [100%]\n"
     ]
    }
   ],
   "source": [
    "mk, rk, ak, kfa, mkt, trace = my_dwi.extractDKI()"
   ]
  },
  {
   "cell_type": "code",
   "execution_count": 17,
   "metadata": {},
   "outputs": [],
   "source": [
    "#Reshape to previous data format (matrix with dimensions corresponding to SNRs testes and simulation repetitions)\n",
    "MDpy = md.reshape((10, 1000))\n",
    "ADpy = ad.reshape((10, 1000))\n",
    "RDpy = rd.reshape((10, 1000))\n",
    "FApy = fa.reshape((10, 1000))\n",
    "\n",
    "MKpy = mk.reshape((10, 1000))\n",
    "AKpy = ak.reshape((10, 1000))\n",
    "RKpy = rk.reshape((10, 1000))\n",
    "KFApy = kfa.reshape((10, 1000))"
   ]
  },
  {
   "cell_type": "code",
   "execution_count": 18,
   "metadata": {},
   "outputs": [
    {
     "data": {
      "text/plain": [
       "(0.7, 0.9)"
      ]
     },
     "execution_count": 18,
     "metadata": {},
     "output_type": "execute_result"
    },
    {
     "data": {
      "image/png": "[encoded data removed]",
      "text/plain": [
       "<Figure size 864x216 with 4 Axes>"
      ]
     },
     "metadata": {
      "needs_background": "light"
     },
     "output_type": "display_data"
    }
   ],
   "source": [
    "fig, axs = plt.subplots(nrows=1, ncols=4, figsize=(12, 3))\n",
    "fig.subplots_adjust(hspace=1, wspace=0.3)\n",
    "\n",
    "# Initializing vectors for statistics\n",
    "median_p = np.empty(SNRs.size)\n",
    "lower_p = np.empty(SNRs.size)\n",
    "upper_p = np.empty(SNRs.size)\n",
    "\n",
    "for snri in range(SNRs.size):\n",
    "    median_p[snri] = np.median(MDpy[snri, :])\n",
    "    p25, p75 = np.percentile(MDpy[snri, :], [25, 75])\n",
    "    lower_p[snri] = median_p[snri] - p25 \n",
    "    upper_p[snri] = p75 - median_p[snri]\n",
    "\n",
    "axs[0].errorbar(SNRs, median_p, fmt='-', yerr=[lower_p, upper_p],\n",
    "                color=[0.0, 0.0, 0.8], ecolor= [0.0, 0.0, 0.8],\n",
    "                linewidth=1.0)\n",
    "axs[0].hlines(md_gt*1000, xmin=0, xmax=110, colors=[0, 0, 0])\n",
    "\n",
    "# Adjust properties of the first panel of the figure\n",
    "# axs[0].set_ylim([md_gt*1000*0.9, md_gt*1000*1.1])\n",
    "axs[0].set_xlim([0, 110])\n",
    "axs[0].set_xlabel('SNR', fontsize=14)\n",
    "axs[0].set_title('B.1) MD ($x10^{-3}mm^{2}/s$)', fontsize=14, pad=10)\n",
    "\n",
    "\n",
    "for snri in range(SNRs.size):\n",
    "    median_p[snri] = np.median(RDpy[snri, :])\n",
    "    p25, p75 = np.percentile(RDpy[snri, :], [25, 75])\n",
    "    lower_p[snri] = median_p[snri] - p25 \n",
    "    upper_p[snri] = p75 - median_p[snri]\n",
    "\n",
    "axs[1].errorbar(SNRs, median_p, fmt='-', yerr=[lower_p, upper_p],\n",
    "                color=[0.0, 0.0, 0.4], ecolor= [0.0, 0.0, 0.4],\n",
    "                linewidth=1.0)\n",
    "axs[1].hlines(rd_gt*1000, xmin=0, xmax=110, colors=[0, 0, 0])\n",
    "\n",
    "# Adjust properties of the first panel of the figure\n",
    "#axs[0].set_ylim([, 1.2])\n",
    "axs[1].set_xlim([0, 110])\n",
    "axs[1].set_xlabel('SNR', fontsize=14)\n",
    "axs[1].set_title('B.2) RD ($x10^{-3}mm^{2}/s$)', fontsize=14, pad=10)\n",
    "\n",
    "\n",
    "\n",
    "for snri in range(SNRs.size):\n",
    "    median_p[snri] = np.median(ADpy[snri, :])\n",
    "    p25, p75 = np.percentile(ADpy[snri, :], [25, 75])\n",
    "    lower_p[snri] = median_p[snri] - p25 \n",
    "    upper_p[snri] = p75 - median_p[snri]\n",
    "\n",
    "axs[2].errorbar(SNRs, median_p, fmt='-', yerr=[lower_p, upper_p],\n",
    "                color=[0.0, 0.8, 0.8], ecolor= [0.0, 0.8, 0.8],\n",
    "                linewidth=1.0)\n",
    "axs[2].hlines(ad_gt*1000, xmin=0, xmax=110, colors=[0, 0, 0])\n",
    "\n",
    "# Adjust properties of the first panel of the figure\n",
    "#axs[0].set_ylim([, 1.2])\n",
    "axs[2].set_xlim([0, 110])\n",
    "axs[2].set_xlabel('SNR', fontsize=14)\n",
    "axs[2].set_title('B.3) AD ($x10^{-3}mm^{2}/s$)', fontsize=14, pad=10)\n",
    "\n",
    "for snri in range(SNRs.size):\n",
    "    median_p[snri] = np.median(FApy[snri, :])\n",
    "    p25, p75 = np.percentile(FApy[snri, :], [25, 75])\n",
    "    lower_p[snri] = median_p[snri] - p25 \n",
    "    upper_p[snri] = p75 - median_p[snri]\n",
    "\n",
    "axs[3].errorbar(SNRs, median_p, fmt='-', yerr=[lower_p, upper_p],\n",
    "                color=[1.0, 0.0, 0.0], ecolor= [1.0, 0.0, 0.0],\n",
    "                linewidth=1.0)\n",
    "axs[3].hlines(fa_gt, xmin=0, xmax=110, colors=[0, 0, 0])\n",
    "\n",
    "# Adjust properties of the first panel of the figure\n",
    "axs[3].set_xlim([0, 110])\n",
    "axs[3].set_xlabel('SNR', fontsize=14)\n",
    "axs[3].set_title('B.4) FA', fontsize=14, pad=10)\n",
    "\n",
    "\n",
    "axs[0].set_ylim([0.7, 0.9])\n",
    "axs[1].set_ylim([0.2, 0.4])\n",
    "axs[2].set_ylim([1.6, 2.0])\n",
    "axs[3].set_ylim([0.7, 0.9])"
   ]
  },
  {
   "cell_type": "code",
   "execution_count": 19,
   "metadata": {},
   "outputs": [
    {
     "data": {
      "text/plain": [
       "(0.3, 1.0)"
      ]
     },
     "execution_count": 19,
     "metadata": {},
     "output_type": "execute_result"
    },
    {
     "data": {
      "image/png": "[encoded data removed]",
      "text/plain": [
       "<Figure size 864x216 with 4 Axes>"
      ]
     },
     "metadata": {
      "needs_background": "light"
     },
     "output_type": "display_data"
    }
   ],
   "source": [
    "fig, axs = plt.subplots(nrows=1, ncols=4, figsize=(12, 3))\n",
    "fig.subplots_adjust(hspace=0.3, wspace=0.3)\n",
    "\n",
    "# Initializing vectors for statistics\n",
    "median_p = np.empty(SNRs.size)\n",
    "lower_p = np.empty(SNRs.size)\n",
    "upper_p = np.empty(SNRs.size)\n",
    "\n",
    "for snri in range(SNRs.size):\n",
    "    median_p[snri] = np.median(MKpy[snri, :])\n",
    "    p25, p75 = np.percentile(MKpy[snri, :], [25, 75])\n",
    "    lower_p[snri] = median_p[snri] - p25 \n",
    "    upper_p[snri] = p75 - median_p[snri]\n",
    "\n",
    "axs[0].errorbar(SNRs, median_p, fmt='-', yerr=[lower_p, upper_p],\n",
    "                color=[0.0, 0.8, 0.0], ecolor= [0.0, 0.8, 0.0],\n",
    "                linewidth=1.0)\n",
    "axs[0].hlines(mk_gt, xmin=0, xmax=110, colors=[0, 0, 0])\n",
    "\n",
    "# Adjust properties of the first panel of the figure\n",
    "# axs[0].set_ylim([md_gt*1000*0.9, md_gt*1000*1.1])\n",
    "axs[0].set_xlim([0, 110])\n",
    "axs[0].set_xlabel('SNR', fontsize=14)\n",
    "axs[0].set_title('B.5) MK', fontsize=14, pad=10)\n",
    "\n",
    "\n",
    "for snri in range(SNRs.size):\n",
    "    median_p[snri] = np.median(RKpy[snri, :])\n",
    "    p25, p75 = np.percentile(RKpy[snri, :], [25, 75])\n",
    "    lower_p[snri] = median_p[snri] - p25 \n",
    "    upper_p[snri] = p75 - median_p[snri]\n",
    "\n",
    "axs[1].errorbar(SNRs, median_p, fmt='-', yerr=[lower_p, upper_p],\n",
    "                color=[0.0, 0.5, 0.0], ecolor= [0.0, 0.5, 0.0],\n",
    "                linewidth=1.0)\n",
    "axs[1].hlines(rk_gt, xmin=0, xmax=110, colors=[0, 0, 0])\n",
    "\n",
    "# Adjust properties of the first panel of the figure\n",
    "#axs[0].set_ylim([, 1.2])\n",
    "axs[1].set_xlim([0, 110])\n",
    "axs[1].set_xlabel('SNR', fontsize=14)\n",
    "axs[1].set_title('B.6) RK', fontsize=14, pad=10)\n",
    "\n",
    "\n",
    "\n",
    "for snri in range(SNRs.size):\n",
    "    median_p[snri] = np.median(AKpy[snri, :])\n",
    "    p25, p75 = np.percentile(AKpy[snri, :], [25, 75])\n",
    "    lower_p[snri] = median_p[snri] - p25 \n",
    "    upper_p[snri] = p75 - median_p[snri]\n",
    "\n",
    "axs[2].errorbar(SNRs, median_p, fmt='-', yerr=[lower_p, upper_p],\n",
    "                color=[0.8, 0.8, 0.0], ecolor= [0.8, 0.8, 0.0],\n",
    "                linewidth=1.0)\n",
    "axs[2].hlines(ak_gt, xmin=0, xmax=110, colors=[0, 0, 0])\n",
    "\n",
    "# Adjust properties of the first panel of the figure\n",
    "#axs[0].set_ylim([, 1.2])\n",
    "axs[2].set_xlim([0, 110])\n",
    "axs[2].set_xlabel('SNR', fontsize=14)\n",
    "axs[2].set_title('B.7) AK', fontsize=14, pad=10)\n",
    "\n",
    "for snri in range(SNRs.size):\n",
    "    median_p[snri] = np.median(KFApy[snri, :])\n",
    "    p25, p75 = np.percentile(KFApy[snri, :], [25, 75])\n",
    "    lower_p[snri] = median_p[snri] - p25 \n",
    "    upper_p[snri] = p75 - median_p[snri]\n",
    "\n",
    "axs[3].errorbar(SNRs, median_p, fmt='-', yerr=[lower_p, upper_p],\n",
    "                color=[1, 0.5, 0.], ecolor=[1, 0.5, 0.],\n",
    "                linewidth=1.0)\n",
    "axs[3].hlines(kfa_gt, xmin=0, xmax=110, colors=[0, 0, 0])\n",
    "\n",
    "# Adjust properties of the first panel of the figure\n",
    "axs[3].set_xlim([0, 110])\n",
    "axs[3].set_xlabel('SNR', fontsize=14)\n",
    "axs[3].set_title('B.8) KFA', fontsize=14, pad=10)\n",
    "\n",
    "axs[0].set_ylim([0, 1])\n",
    "axs[1].set_ylim([0, 2])\n",
    "axs[2].set_ylim([0, 1])\n",
    "axs[3].set_ylim([0.3, 1])"
   ]
  },
  {
   "cell_type": "markdown",
   "metadata": {},
   "source": [
    "Let's now run pydesigner using its default fitting routine with positive kurtosis constraints."
   ]
  },
  {
   "cell_type": "code",
   "execution_count": 20,
   "metadata": {},
   "outputs": [
    {
     "name": "stderr",
     "output_type": "stream",
     "text": [
      "Constrained Tensor Fit: [100%]\n"
     ]
    }
   ],
   "source": [
    "my_dwi.fit(constraints=[0, 1, 0])"
   ]
  },
  {
   "cell_type": "code",
   "execution_count": 21,
   "metadata": {},
   "outputs": [
    {
     "name": "stderr",
     "output_type": "stream",
     "text": [
      "DTI Parameters: [100%]\n"
     ]
    }
   ],
   "source": [
    "md, rd, ad, fa, fe, trace  = my_dwi.extractDTI()"
   ]
  },
  {
   "cell_type": "code",
   "execution_count": 22,
   "metadata": {},
   "outputs": [
    {
     "name": "stderr",
     "output_type": "stream",
     "text": [
      "DKI Parameters: [100%]\n"
     ]
    }
   ],
   "source": [
    "mk, rk, ak, kfa, mkt, trace = my_dwi.extractDKI()"
   ]
  },
  {
   "cell_type": "code",
   "execution_count": 23,
   "metadata": {},
   "outputs": [],
   "source": [
    "#Reshape to previous data format (matrix with dimensions corresponding to SNRs testes and simulation repetitions)\n",
    "MDpy = md.reshape((10, 1000))\n",
    "ADpy = ad.reshape((10, 1000))\n",
    "RDpy = rd.reshape((10, 1000))\n",
    "FApy = fa.reshape((10, 1000))\n",
    "\n",
    "MKpy = mk.reshape((10, 1000))\n",
    "AKpy = ak.reshape((10, 1000))\n",
    "RKpy = rk.reshape((10, 1000))\n",
    "KFApy = kfa.reshape((10, 1000))"
   ]
  },
  {
   "cell_type": "code",
   "execution_count": 24,
   "metadata": {
    "scrolled": true
   },
   "outputs": [
    {
     "data": {
      "text/plain": [
       "(0.7, 0.9)"
      ]
     },
     "execution_count": 24,
     "metadata": {},
     "output_type": "execute_result"
    },
    {
     "data": {
      "image/png": "[encoded data removed]",
      "text/plain": [
       "<Figure size 864x216 with 4 Axes>"
      ]
     },
     "metadata": {
      "needs_background": "light"
     },
     "output_type": "display_data"
    }
   ],
   "source": [
    "fig, axs = plt.subplots(nrows=1, ncols=4, figsize=(12, 3))\n",
    "fig.subplots_adjust(hspace=1, wspace=0.3)\n",
    "\n",
    "# Initializing vectors for statistics\n",
    "median_p = np.empty(SNRs.size)\n",
    "lower_p = np.empty(SNRs.size)\n",
    "upper_p = np.empty(SNRs.size)\n",
    "\n",
    "for snri in range(SNRs.size):\n",
    "    median_p[snri] = np.median(MDpy[snri, :])\n",
    "    p25, p75 = np.percentile(MDpy[snri, :], [25, 75])\n",
    "    lower_p[snri] = median_p[snri] - p25 \n",
    "    upper_p[snri] = p75 - median_p[snri]\n",
    "\n",
    "axs[0].errorbar(SNRs, median_p, fmt='-', yerr=[lower_p, upper_p],\n",
    "                color=[0.0, 0.0, 0.8], ecolor= [0.0, 0.0, 0.8],\n",
    "                linewidth=1.0)\n",
    "axs[0].hlines(md_gt*1000, xmin=0, xmax=110, colors=[0, 0, 0])\n",
    "\n",
    "# Adjust properties of the first panel of the figure\n",
    "# axs[0].set_ylim([md_gt*1000*0.9, md_gt*1000*1.1])\n",
    "axs[0].set_xlim([0, 110])\n",
    "axs[0].set_xlabel('SNR', fontsize=14)\n",
    "axs[0].set_title('C.1) MD ($x10^{-3}mm^{2}/s$)', fontsize=14, pad=10)\n",
    "\n",
    "\n",
    "for snri in range(SNRs.size):\n",
    "    median_p[snri] = np.median(RDpy[snri, :])\n",
    "    p25, p75 = np.percentile(RDpy[snri, :], [25, 75])\n",
    "    lower_p[snri] = median_p[snri] - p25 \n",
    "    upper_p[snri] = p75 - median_p[snri]\n",
    "\n",
    "axs[1].errorbar(SNRs, median_p, fmt='-', yerr=[lower_p, upper_p],\n",
    "                color=[0.0, 0.0, 0.4], ecolor= [0.0, 0.0, 0.4],\n",
    "                linewidth=1.0)\n",
    "axs[1].hlines(rd_gt*1000, xmin=0, xmax=110, colors=[0, 0, 0])\n",
    "\n",
    "# Adjust properties of the first panel of the figure\n",
    "#axs[0].set_ylim([, 1.2])\n",
    "axs[1].set_xlim([0, 110])\n",
    "axs[1].set_xlabel('SNR', fontsize=14)\n",
    "axs[1].set_title('C.2) RD ($x10^{-3}mm^{2}/s$)', fontsize=14, pad=10)\n",
    "\n",
    "\n",
    "\n",
    "for snri in range(SNRs.size):\n",
    "    median_p[snri] = np.median(ADpy[snri, :])\n",
    "    p25, p75 = np.percentile(ADpy[snri, :], [25, 75])\n",
    "    lower_p[snri] = median_p[snri] - p25 \n",
    "    upper_p[snri] = p75 - median_p[snri]\n",
    "\n",
    "axs[2].errorbar(SNRs, median_p, fmt='-', yerr=[lower_p, upper_p],\n",
    "                color=[0.0, 0.8, 0.8], ecolor= [0.0, 0.8, 0.8],\n",
    "                linewidth=1.0)\n",
    "axs[2].hlines(ad_gt*1000, xmin=0, xmax=110, colors=[0, 0, 0])\n",
    "\n",
    "# Adjust properties of the first panel of the figure\n",
    "#axs[0].set_ylim([, 1.2])\n",
    "axs[2].set_xlim([0, 110])\n",
    "axs[2].set_xlabel('SNR', fontsize=14)\n",
    "axs[2].set_title('C.3) AD ($x10^{-3}mm^{2}/s$)', fontsize=14, pad=10)\n",
    "\n",
    "for snri in range(SNRs.size):\n",
    "    median_p[snri] = np.median(FApy[snri, :])\n",
    "    p25, p75 = np.percentile(FApy[snri, :], [25, 75])\n",
    "    lower_p[snri] = median_p[snri] - p25 \n",
    "    upper_p[snri] = p75 - median_p[snri]\n",
    "\n",
    "axs[3].errorbar(SNRs, median_p, fmt='-', yerr=[lower_p, upper_p],\n",
    "                color=[1.0, 0.0, 0.0], ecolor= [1.0, 0.0, 0.0],\n",
    "                linewidth=1.0)\n",
    "axs[3].hlines(fa_gt, xmin=0, xmax=110, colors=[0, 0, 0])\n",
    "\n",
    "# Adjust properties of the first panel of the figure\n",
    "axs[3].set_xlim([0, 110])\n",
    "axs[3].set_xlabel('SNR', fontsize=14)\n",
    "axs[3].set_title('C.4) FA', fontsize=14, pad=10)\n",
    "\n",
    "\n",
    "axs[0].set_ylim([0.7, 0.9])\n",
    "axs[1].set_ylim([0.2, 0.4])\n",
    "axs[2].set_ylim([1.6, 2.0])\n",
    "axs[3].set_ylim([0.7, 0.9])"
   ]
  },
  {
   "cell_type": "code",
   "execution_count": 25,
   "metadata": {
    "scrolled": true
   },
   "outputs": [
    {
     "data": {
      "text/plain": [
       "(0.3, 1.0)"
      ]
     },
     "execution_count": 25,
     "metadata": {},
     "output_type": "execute_result"
    },
    {
     "data": {
      "image/png": "[encoded data removed]",
      "text/plain": [
       "<Figure size 864x216 with 4 Axes>"
      ]
     },
     "metadata": {
      "needs_background": "light"
     },
     "output_type": "display_data"
    }
   ],
   "source": [
    "fig, axs = plt.subplots(nrows=1, ncols=4, figsize=(12, 3))\n",
    "fig.subplots_adjust(hspace=0.3, wspace=0.3)\n",
    "\n",
    "# Initializing vectors for statistics\n",
    "median_p = np.empty(SNRs.size)\n",
    "lower_p = np.empty(SNRs.size)\n",
    "upper_p = np.empty(SNRs.size)\n",
    "\n",
    "for snri in range(SNRs.size):\n",
    "    median_p[snri] = np.median(MKpy[snri, :])\n",
    "    p25, p75 = np.percentile(MKpy[snri, :], [25, 75])\n",
    "    lower_p[snri] = median_p[snri] - p25 \n",
    "    upper_p[snri] = p75 - median_p[snri]\n",
    "\n",
    "axs[0].errorbar(SNRs, median_p, fmt='-', yerr=[lower_p, upper_p],\n",
    "                color=[0.0, 0.8, 0.0], ecolor= [0.0, 0.8, 0.0],\n",
    "                linewidth=1.0)\n",
    "axs[0].hlines(mk_gt, xmin=0, xmax=110, colors=[0, 0, 0])\n",
    "\n",
    "# Adjust properties of the first panel of the figure\n",
    "# axs[0].set_ylim([md_gt*1000*0.9, md_gt*1000*1.1])\n",
    "axs[0].set_xlim([0, 110])\n",
    "axs[0].set_xlabel('SNR', fontsize=14)\n",
    "axs[0].set_title('C.5) MK', fontsize=14, pad=10)\n",
    "\n",
    "\n",
    "for snri in range(SNRs.size):\n",
    "    median_p[snri] = np.median(RKpy[snri, :])\n",
    "    p25, p75 = np.percentile(RKpy[snri, :], [25, 75])\n",
    "    lower_p[snri] = median_p[snri] - p25 \n",
    "    upper_p[snri] = p75 - median_p[snri]\n",
    "\n",
    "axs[1].errorbar(SNRs, median_p, fmt='-', yerr=[lower_p, upper_p],\n",
    "                color=[0.0, 0.5, 0.0], ecolor= [0.0, 0.5, 0.0],\n",
    "                linewidth=1.0)\n",
    "axs[1].hlines(rk_gt, xmin=0, xmax=110, colors=[0, 0, 0])\n",
    "\n",
    "# Adjust properties of the first panel of the figure\n",
    "#axs[0].set_ylim([, 1.2])\n",
    "axs[1].set_xlim([0, 110])\n",
    "axs[1].set_xlabel('SNR', fontsize=14)\n",
    "axs[1].set_title('C.6) RK', fontsize=14, pad=10)\n",
    "\n",
    "\n",
    "\n",
    "for snri in range(SNRs.size):\n",
    "    median_p[snri] = np.median(AKpy[snri, :])\n",
    "    p25, p75 = np.percentile(AKpy[snri, :], [25, 75])\n",
    "    lower_p[snri] = median_p[snri] - p25 \n",
    "    upper_p[snri] = p75 - median_p[snri]\n",
    "\n",
    "axs[2].errorbar(SNRs, median_p, fmt='-', yerr=[lower_p, upper_p],\n",
    "                color=[0.8, 0.8, 0.0], ecolor= [0.8, 0.8, 0.0],\n",
    "                linewidth=1.0)\n",
    "axs[2].hlines(ak_gt, xmin=0, xmax=110, colors=[0, 0, 0])\n",
    "\n",
    "# Adjust properties of the first panel of the figure\n",
    "#axs[0].set_ylim([, 1.2])\n",
    "axs[2].set_xlim([0, 110])\n",
    "axs[2].set_xlabel('SNR', fontsize=14)\n",
    "axs[2].set_title('C.7) AK', fontsize=14, pad=10)\n",
    "\n",
    "for snri in range(SNRs.size):\n",
    "    median_p[snri] = np.median(KFApy[snri, :])\n",
    "    p25, p75 = np.percentile(KFApy[snri, :], [25, 75])\n",
    "    lower_p[snri] = median_p[snri] - p25 \n",
    "    upper_p[snri] = p75 - median_p[snri]\n",
    "\n",
    "axs[3].errorbar(SNRs, median_p, fmt='-', yerr=[lower_p, upper_p],\n",
    "                color=[1, 0.5, 0.], ecolor=[1, 0.5, 0.],\n",
    "                linewidth=1.0)\n",
    "axs[3].hlines(kfa_gt, xmin=0, xmax=110, colors=[0, 0, 0])\n",
    "\n",
    "# Adjust properties of the first panel of the figure\n",
    "axs[3].set_xlim([0, 110])\n",
    "axs[3].set_xlabel('SNR', fontsize=14)\n",
    "axs[3].set_title('C.8) KFA', fontsize=14, pad=10)\n",
    "\n",
    "axs[0].set_ylim([0, 1])\n",
    "axs[1].set_ylim([0, 2])\n",
    "axs[2].set_ylim([0, 1])\n",
    "axs[3].set_ylim([0.3, 1])"
   ]
  },
  {
   "cell_type": "code",
   "execution_count": null,
   "metadata": {},
   "outputs": [],
   "source": []
  }
 ],
 "metadata": {
  "kernelspec": {
   "display_name": "Python 3",
   "language": "python",
   "name": "python3"
  },
  "language_info": {
   "codemirror_mode": {
    "name": "ipython",
    "version": 3
   },
   "file_extension": ".py",
   "mimetype": "text/x-python",
   "name": "python",
   "nbconvert_exporter": "python",
   "pygments_lexer": "ipython3",
   "version": "3.8.5"
  }
 },
 "nbformat": 4,
 "nbformat_minor": 2
}

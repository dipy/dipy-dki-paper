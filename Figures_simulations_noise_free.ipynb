{
 "cells": [
  {
   "cell_type": "markdown",
   "metadata": {},
   "source": [
    "# Dipy Simulations\n",
    "\n",
    "Dipy provides tools to generate synthetic signals. These synthetic signals are useful for testing and validating the Dipy procedures during their development. Moreover, for education proposes, these tools are also useful to explore in more detail the properties of different diffusion parameters.\n",
    "\n",
    "To illustrate the sensitivity and specificity of different DKI metrics, DKI is first processed on single voxel synthetic signals for four different sets of ground truth parameters (cases 1 to 4)."
   ]
  },
  {
   "cell_type": "markdown",
   "metadata": {},
   "source": [
    "First let's load relevant modules"
   ]
  },
  {
   "cell_type": "code",
   "execution_count": 1,
   "metadata": {},
   "outputs": [],
   "source": [
    "import numpy as np\n",
    "import matplotlib.pyplot as plt\n",
    "from dipy.core.sphere import disperse_charges, HemiSphere\n",
    "from dipy.sims.voxel import (multi_tensor_dki, single_tensor, multi_tensor, \n",
    "                             _check_directions, all_tensor_evecs)\n",
    "from dipy.data import (get_fnames, get_sphere)\n",
    "from dipy.io.gradients import read_bvals_bvecs\n",
    "from dipy.core.gradients import gradient_table\n",
    "from dipy.reconst.dti import (decompose_tensor, from_lower_triangular)\n",
    "from dipy.sims.voxel import add_noise\n",
    "from dipy.data import get_sphere\n",
    "from dipy.reconst.dti import fractional_anisotropy\n",
    "from dipy.viz import window, actor\n",
    "import dipy.reconst.dki as dki\n",
    "import dipy.reconst.dti as dti\n",
    "import dipy.reconst.msdki as msdki\n",
    "sphere = get_sphere('repulsion724')"
   ]
  },
  {
   "cell_type": "markdown",
   "metadata": {},
   "source": [
    "The synthetic signals for each set of ground truth parameters are generated according to the gradient directions and b-values of the CFIN dataset. So let's load a object containing the acquisition parameters of the CFIN dataset."
   ]
  },
  {
   "cell_type": "code",
   "execution_count": 2,
   "metadata": {},
   "outputs": [],
   "source": [
    "fraw, fbval, fbvec, t1_fname = get_fnames('cfin_multib')\n",
    "bvals, bvecs = read_bvals_bvecs(fbval, fbvec)\n",
    "gtab = gradient_table(bvals, bvecs)"
   ]
  },
  {
   "cell_type": "code",
   "execution_count": 3,
   "metadata": {},
   "outputs": [],
   "source": [
    "bval1000 = gtab.bvals == 1000\n",
    "bval2000 = gtab.bvals == 2000\n",
    "bval3000 = gtab.bvals == 3000\n",
    "bval_sel = bval1000 | bval2000 | bval3000"
   ]
  },
  {
   "cell_type": "code",
   "execution_count": 4,
   "metadata": {},
   "outputs": [],
   "source": [
    "bvals = gtab.bvals[bval_sel]\n",
    "bvecs = gtab.bvecs[bval_sel, :]\n",
    "\n",
    "# add 6 b-values\n",
    "bvals = np.hstack((np.zeros(6), bvals))\n",
    "bvecs = np.vstack((np.zeros((6, 3)), bvecs))\n",
    "gtab = gradient_table(bvals, bvecs)"
   ]
  },
  {
   "cell_type": "markdown",
   "metadata": {},
   "source": [
    "# Voxel Case 1 (Single Tensor)"
   ]
  },
  {
   "cell_type": "markdown",
   "metadata": {},
   "source": [
    "Define diffusivities of voxel case 1"
   ]
  },
  {
   "cell_type": "code",
   "execution_count": 5,
   "metadata": {},
   "outputs": [],
   "source": [
    "eval1 = [1.7e-3, 0.3e-3, 0.3e-3];\n",
    "angle = [(130.0, 0.0)]\n",
    "stick = _check_directions(angle)\n",
    "evec1 = all_tensor_evecs(stick[0])"
   ]
  },
  {
   "cell_type": "markdown",
   "metadata": {},
   "source": [
    "Plot tensor component of voxel case 1"
   ]
  },
  {
   "cell_type": "code",
   "execution_count": 6,
   "metadata": {},
   "outputs": [],
   "source": [
    "evals = np.array([[[eval1]]])\n",
    "evecs = np.array([[[evec1]]])\n",
    "\n",
    "# colors\n",
    "color1 = np.zeros(evals.shape)\n",
    "color1[0, 0, 0, 0] = 1;  #red\n",
    "\n",
    "scene = window.Scene()\n",
    "\n",
    "tensor_actor = actor.tensor_slicer(evals, evecs, scalar_colors=color1, sphere=sphere, scale=1)\n",
    "tensor_actor.display(y=0)\n",
    "tensor_actor.RotateX(110)\n",
    "scene.add(tensor_actor)\n",
    "\n",
    "#dir_actor = actor.peak_slicer(np.array([[[stick]]]), np.array([[[1.8]]]), colors=None)\n",
    "#dir_actor.display(y=0)\n",
    "#dir_actor.RotateX(90)\n",
    "#scene.add(dir_actor)\n",
    "\n",
    "window.show(scene)\n",
    "\n",
    "window.record(scene, n_frames=1, out_path='case1.png', size=(600, 600))"
   ]
  },
  {
   "cell_type": "markdown",
   "metadata": {},
   "source": [
    "The ground truth total diffusion tensor will be equal to the single component diffusion tensor of this simulation case. In addition to the tensor shape, we also plot the simulations main direction."
   ]
  },
  {
   "cell_type": "code",
   "execution_count": 7,
   "metadata": {},
   "outputs": [],
   "source": [
    "dir_actor = actor.peak_slicer(np.array([[[stick]]]), np.array([[[1.2]]]), linewidth=4, colors=(0, 0, 1))\n",
    "dir_actor.display(y=0)\n",
    "dir_actor.RotateX(110)\n",
    "scene.add(dir_actor)\n",
    "\n",
    "window.show(scene)\n",
    "window.record(scene, n_frames=1, out_path='case1_dt_gt.png', size=(600, 600))"
   ]
  },
  {
   "cell_type": "markdown",
   "metadata": {},
   "source": [
    "Generate signal"
   ]
  },
  {
   "cell_type": "code",
   "execution_count": 8,
   "metadata": {},
   "outputs": [],
   "source": [
    "signal1 = single_tensor(gtab, S0=1, evals=eval1, evecs=evec1, snr=None)"
   ]
  },
  {
   "cell_type": "code",
   "execution_count": 9,
   "metadata": {},
   "outputs": [],
   "source": [
    "dti_model = dti.TensorModel(gtab, fit_method='NLLS')\n",
    "dti_fit = dti_model.fit(signal1)\n",
    "\n",
    "evals = np.array([[[dti_fit.evals]]])\n",
    "evecs = np.array([[[dti_fit.evecs]]])\n",
    "\n",
    "color1 = np.zeros(evals.shape)\n",
    "color1[0, 0, 0, 0] = 1;  #red\n",
    "\n",
    "scene = window.Scene()\n",
    "\n",
    "tensor_actor = actor.tensor_slicer(evals, evecs, scalar_colors=color1, sphere=sphere, scale=1)\n",
    "tensor_actor.display(y=0)\n",
    "tensor_actor.RotateX(110)\n",
    "scene.add(tensor_actor)\n",
    "\n",
    "dir_actor1 = actor.peak_slicer(np.array([[[stick]]]), np.array([[[1.2]]]), linewidth=4, colors=(0, 0, 1))\n",
    "dir_actor1.display(y=0)\n",
    "dir_actor1.RotateX(110)\n",
    "scene.add(dir_actor1)\n",
    "\n",
    "window.show(scene)\n",
    "\n",
    "window.record(scene, n_frames=1, out_path='case1_dt_dti_fit.png', size=(600, 600))"
   ]
  },
  {
   "cell_type": "code",
   "execution_count": 10,
   "metadata": {},
   "outputs": [],
   "source": [
    "dki_model = dki.DiffusionKurtosisModel(gtab, fit_method='NLS')\n",
    "dki_fit = dki_model.fit(signal1)\n",
    "\n",
    "evals = np.array([[[dki_fit.evals]]])\n",
    "evecs = np.array([[[dki_fit.evecs]]])\n",
    "\n",
    "color1 = np.zeros(evals.shape)\n",
    "color1[0, 0, 0, 0] = 1;  #red\n",
    "\n",
    "scene = window.Scene()\n",
    "\n",
    "tensor_actor = actor.tensor_slicer(evals, evecs, scalar_colors=color1, sphere=sphere, scale=1)\n",
    "tensor_actor.display(y=0)\n",
    "tensor_actor.RotateX(110)\n",
    "scene.add(tensor_actor)\n",
    "\n",
    "dir_actor1 = actor.peak_slicer(np.array([[[stick]]]), np.array([[[1.2]]]), linewidth=4, colors=(0, 0, 1))\n",
    "dir_actor1.display(y=0)\n",
    "dir_actor1.RotateX(110)\n",
    "scene.add(dir_actor1)\n",
    "\n",
    "window.show(scene)\n",
    "\n",
    "window.record(scene, n_frames=1, out_path='case1_dt_dki_fit.png', size=(600, 600))"
   ]
  },
  {
   "cell_type": "code",
   "execution_count": 11,
   "metadata": {},
   "outputs": [],
   "source": [
    "akc = dki_fit.akc(sphere)\n",
    "\n",
    "refmk=0.8\n",
    "\n",
    "scene = window.Scene()\n",
    "dki_actor = actor.odf_slicer(np.array([[[akc]]]), sphere=sphere, colormap='Wistia', scale=dki_fit.mk()/refmk)\n",
    "dki_actor.display(y=0)\n",
    "dki_actor.RotateX(110)\n",
    "scene.add(dki_actor)\n",
    "\n",
    "\n",
    "dir_actor1 = actor.peak_slicer(np.array([[[stick]]]), np.array([[[1.2]]]), linewidth=4, colors=(0, 0, 1))\n",
    "dir_actor1.display(y=0)\n",
    "dir_actor1.RotateX(110)\n",
    "scene.add(dir_actor1)\n",
    "\n",
    "\n",
    "window.show(scene)\n",
    "\n",
    "window.record(scene, n_frames=1, out_path='case1_kt_dki_fit.png', size=(600, 600))"
   ]
  },
  {
   "cell_type": "markdown",
   "metadata": {},
   "source": [
    "# Voxel Case 2 (Intra - and extra-cellular Tensor)"
   ]
  },
  {
   "cell_type": "markdown",
   "metadata": {},
   "source": [
    "Define diffusivities of voxel case 2"
   ]
  },
  {
   "cell_type": "code",
   "execution_count": 12,
   "metadata": {},
   "outputs": [],
   "source": [
    "eval1 = [1.4e-3, 0.1e-3, 0.1e-3]\n",
    "eval2 = [2.0e-3, 0.5e-3, 0.5e-3]\n",
    "angle1 = (130.0, 0.0)\n",
    "angle2 = (130.0, 0.0)\n",
    "stick1 = _check_directions([angle1])\n",
    "stick2 = _check_directions([angle2])\n",
    "evec1 = all_tensor_evecs(stick1[0])\n",
    "evec2 = all_tensor_evecs(stick2[0])"
   ]
  },
  {
   "cell_type": "markdown",
   "metadata": {},
   "source": [
    "Plot the two tensor components of voxel case 2."
   ]
  },
  {
   "cell_type": "code",
   "execution_count": 13,
   "metadata": {},
   "outputs": [],
   "source": [
    "evals = np.array([[[eval1, eval2]]])\n",
    "evecs =  np.array([[[evec1, evec2]]])\n",
    "\n",
    "colors = np.zeros(evals.shape)\n",
    "colors[0, 0, 0, 2] = 1;  # blue\n",
    "colors[0, 0, 1, 0] = 1;  # yellow\n",
    "colors[0, 0, 1, 1] = 1;  \n",
    "\n",
    "scene = window.Scene()\n",
    "\n",
    "tensor_actor = actor.tensor_slicer(evals, evecs, scalar_colors=colors, sphere=sphere, scale=1)\n",
    "tensor_actor.display(y=0)\n",
    "tensor_actor.RotateX(110)\n",
    "scene.add(tensor_actor)\n",
    "\n",
    "window.show(scene)\n",
    "\n",
    "window.record(scene, n_frames=1, out_path='case2.png', size=(600, 600))"
   ]
  },
  {
   "cell_type": "markdown",
   "metadata": {},
   "source": [
    "The ground truth total diffusion tensor and total kurtosis tensors can be computed from the multi_tensor_dki. Since this function ignores high-order-terms, it produced diffusion and kurtosis tensors are analogous to the predicted tensors from equations 22 and 23."
   ]
  },
  {
   "cell_type": "code",
   "execution_count": 14,
   "metadata": {},
   "outputs": [],
   "source": [
    "mevals = [eval1, eval2]\n",
    "S0 = 1\n",
    "angles = [angle1, angle2]\n",
    "fractions = [50, 50]\n",
    "signal2_gt, dt, kt = multi_tensor_dki(gtab, mevals, S0, angles, fractions, snr=None)\n",
    "\n",
    "dki_model = dki.DiffusionKurtosisModel(gtab, fit_method='NLS')\n",
    "dki_fit = dki_model.fit(signal2_gt)"
   ]
  },
  {
   "cell_type": "markdown",
   "metadata": {},
   "source": [
    "Let's plot the ground truth DT"
   ]
  },
  {
   "cell_type": "code",
   "execution_count": 15,
   "metadata": {},
   "outputs": [],
   "source": [
    "evals = np.array([[[dki_fit.evals]]])\n",
    "evecs = np.array([[[dki_fit.evecs]]])\n",
    "\n",
    "reffa = dki_fit.fa\n",
    "refmd = dki_fit.md\n",
    "refmk = dki_fit.mk()\n",
    "\n",
    "color1 = np.zeros(evals.shape)\n",
    "color1[0, 0, 0, 0] = dki_fit.md/refmd;  #red\n",
    "\n",
    "scene = window.Scene()\n",
    "\n",
    "tensor_actor = actor.tensor_slicer(evals, evecs, scalar_colors=color1, sphere=sphere, scale=dki_fit.md/refmd)\n",
    "tensor_actor.display(y=0)\n",
    "tensor_actor.RotateX(110)\n",
    "scene.add(tensor_actor)\n",
    "\n",
    "dir_actor1 = actor.peak_slicer(np.array([[[stick1]]]), np.array([[[1.2]]]), linewidth=4, colors=(0, 0, 1))\n",
    "dir_actor1.display(y=0)\n",
    "dir_actor1.RotateX(110)\n",
    "scene.add(dir_actor1)\n",
    "\n",
    "window.show(scene)\n",
    "\n",
    "window.record(scene, n_frames=1, out_path='case2_dt_gt.png', size=(600, 600))"
   ]
  },
  {
   "cell_type": "markdown",
   "metadata": {},
   "source": [
    "Let's plot the ground truth KT"
   ]
  },
  {
   "cell_type": "code",
   "execution_count": 16,
   "metadata": {},
   "outputs": [],
   "source": [
    "akc = dki_fit.akc(sphere)\n",
    "\n",
    "scene = window.Scene()\n",
    "dki_actor = actor.odf_slicer(np.array([[[akc]]]), sphere=sphere, colormap='Wistia', scale=dki_fit.mk()/refmk)\n",
    "dki_actor.display(y=0)\n",
    "dki_actor.RotateX(110)\n",
    "scene.add(dki_actor)\n",
    "\n",
    "\n",
    "dir_actor1 = actor.peak_slicer(np.array([[[stick1]]]), np.array([[[1.2]]]), linewidth=4, colors=(0, 0, 1))\n",
    "dir_actor1.display(y=0)\n",
    "dir_actor1.RotateX(110)\n",
    "scene.add(dir_actor1)\n",
    "\n",
    "\n",
    "window.show(scene)\n",
    "\n",
    "window.record(scene, n_frames=1, out_path='case2_kt_gt.png', size=(600, 600))"
   ]
  },
  {
   "cell_type": "markdown",
   "metadata": {},
   "source": [
    "Let's know produce signal considering high order terms."
   ]
  },
  {
   "cell_type": "code",
   "execution_count": 17,
   "metadata": {},
   "outputs": [],
   "source": [
    "signal2, st = multi_tensor(gtab, mevals, S0, angles, fractions, snr=None)"
   ]
  },
  {
   "cell_type": "markdown",
   "metadata": {},
   "source": [
    "Let's fit dti for reference"
   ]
  },
  {
   "cell_type": "code",
   "execution_count": 18,
   "metadata": {},
   "outputs": [],
   "source": [
    "dti_model = dti.TensorModel(gtab, fit_method='NLLS')\n",
    "dti_fit = dti_model.fit(signal2)\n",
    "\n",
    "evals = np.array([[[dti_fit.evals]]])\n",
    "evecs = np.array([[[dti_fit.evecs]]])\n",
    "\n",
    "color1 = np.zeros(evals.shape)\n",
    "color1[0, 0, 0, 0] = dti_fit.md/refmd;  #red\n",
    "\n",
    "scene = window.Scene()\n",
    "\n",
    "tensor_actor = actor.tensor_slicer(evals, evecs, scalar_colors=color1, sphere=sphere, scale=dti_fit.md/refmd)\n",
    "tensor_actor.display(y=0)\n",
    "tensor_actor.RotateX(110)\n",
    "scene.add(tensor_actor)\n",
    "\n",
    "dir_actor1 = actor.peak_slicer(np.array([[[stick1]]]), np.array([[[1.2]]]), linewidth=4, colors=(0, 0, 1))\n",
    "dir_actor1.display(y=0)\n",
    "dir_actor1.RotateX(110)\n",
    "scene.add(dir_actor1)\n",
    "\n",
    "\n",
    "window.show(scene)\n",
    "\n",
    "window.record(scene, n_frames=1, out_path='case2_dt_dti_fit.png', size=(600, 600))"
   ]
  },
  {
   "cell_type": "markdown",
   "metadata": {},
   "source": [
    "Let's plot dt for dki fit"
   ]
  },
  {
   "cell_type": "code",
   "execution_count": 19,
   "metadata": {},
   "outputs": [],
   "source": [
    "dki_fit = dki_model.fit(signal2)\n",
    "\n",
    "evals = np.array([[[dki_fit.evals]]])\n",
    "evecs = np.array([[[dki_fit.evecs]]])\n",
    "\n",
    "color1 = np.zeros(evals.shape)\n",
    "color1[0, 0, 0, 0] = dki_fit.md/refmd;  #red\n",
    "\n",
    "scene = window.Scene()\n",
    "\n",
    "tensor_actor = actor.tensor_slicer(evals, evecs, scalar_colors=color1, sphere=sphere, scale=dki_fit.md/refmd)\n",
    "tensor_actor.display(y=0)\n",
    "tensor_actor.RotateX(110)\n",
    "scene.add(tensor_actor)\n",
    "\n",
    "dir_actor1 = actor.peak_slicer(np.array([[[stick1]]]), np.array([[[1.2]]]), linewidth=4, colors=(0, 0, 1))\n",
    "dir_actor1.display(y=0)\n",
    "dir_actor1.RotateX(110)\n",
    "scene.add(dir_actor1)\n",
    "\n",
    "window.show(scene)\n",
    "\n",
    "window.record(scene, n_frames=1, out_path='case2_dt_dki_fit.png', size=(600, 600))"
   ]
  },
  {
   "cell_type": "markdown",
   "metadata": {},
   "source": [
    "Let's plot fitted KT"
   ]
  },
  {
   "cell_type": "code",
   "execution_count": 20,
   "metadata": {},
   "outputs": [],
   "source": [
    "akc = dki_fit.akc(sphere)\n",
    "\n",
    "scene = window.Scene()\n",
    "dki_actor = actor.odf_slicer(np.array([[[akc]]]), sphere=sphere, colormap='Wistia', scale=dki_fit.mk()/refmk)\n",
    "dki_actor.display(y=0)\n",
    "dki_actor.RotateX(110)\n",
    "scene.add(dki_actor)\n",
    "\n",
    "\n",
    "dir_actor1 = actor.peak_slicer(np.array([[[stick1]]]), np.array([[[1.2]]]), linewidth=4, colors=(0, 0, 1))\n",
    "dir_actor1.display(y=0)\n",
    "dir_actor1.RotateX(110)\n",
    "scene.add(dir_actor1)\n",
    "\n",
    "\n",
    "window.show(scene)\n",
    "\n",
    "window.record(scene, n_frames=1, out_path='case2_kt_dki_fit.png', size=(600, 600))"
   ]
  },
  {
   "cell_type": "markdown",
   "metadata": {},
   "source": [
    "# Voxel case 3 (simplistic model of axonal \"degeneration\")"
   ]
  },
  {
   "cell_type": "code",
   "execution_count": 21,
   "metadata": {},
   "outputs": [],
   "source": [
    "eval1 = [1.4e-3, 0.1e-3, 0.1e-3]\n",
    "eval2 = [2e-3, 0.7e-3, 0.7e-3]\n",
    "angle1 = (130.0, 0.0)\n",
    "angle2 = (130.0, 0.0)\n",
    "stick1 = _check_directions([angle1])\n",
    "stick2 = _check_directions([angle2])\n",
    "evec1 = all_tensor_evecs(stick1[0])\n",
    "evec2 = all_tensor_evecs(stick2[0])"
   ]
  },
  {
   "cell_type": "markdown",
   "metadata": {},
   "source": [
    "Plot the two tensor components of voxel case 2."
   ]
  },
  {
   "cell_type": "code",
   "execution_count": 22,
   "metadata": {},
   "outputs": [],
   "source": [
    "evals = np.array([[[eval1, eval2]]])\n",
    "evecs =  np.array([[[evec1, evec2]]])\n",
    "\n",
    "colors = np.zeros(evals.shape)\n",
    "colors[0, 0, 0, 2] = 1;  # blue\n",
    "colors[0, 0, 1, 0] = 1;  # orange\n",
    "colors[0, 0, 1, 1] = 0.5;  \n",
    "\n",
    "scene = window.Scene()\n",
    "\n",
    "tensor_actor = actor.tensor_slicer(evals, evecs, scalar_colors=colors, sphere=sphere, scale=1)\n",
    "tensor_actor.display(y=0)\n",
    "tensor_actor.RotateX(110)\n",
    "scene.add(tensor_actor)\n",
    "\n",
    "window.show(scene)\n",
    "\n",
    "window.record(scene, n_frames=1, out_path='case3.png', size=(600, 600))"
   ]
  },
  {
   "cell_type": "markdown",
   "metadata": {},
   "source": [
    "Plot GT diffusion tensor"
   ]
  },
  {
   "cell_type": "code",
   "execution_count": 23,
   "metadata": {},
   "outputs": [],
   "source": [
    "mevals = [eval1, eval2]\n",
    "S0 = 1\n",
    "angles = [angle1, angle2]\n",
    "fractions = [30, 70]\n",
    "signal3_gt, dt, kt = multi_tensor_dki(gtab, mevals, S0, angles, fractions, snr=None)\n",
    "\n",
    "dki_fit = dki_model.fit(signal3_gt)\n",
    "\n",
    "evals = np.array([[[dki_fit.evals]]])\n",
    "evecs = np.array([[[dki_fit.evecs]]])\n",
    "\n",
    "#reffa = dki_fit.fa\n",
    "#refmd = dki_fit.md\n",
    "#refmk = dki_fit.mk()\n",
    "\n",
    "color1 = np.zeros(evals.shape)\n",
    "color1[0, 0, 0, 0] = dki_fit.md/refmd;  #red\n",
    "\n",
    "scene = window.Scene()\n",
    "\n",
    "tensor_actor = actor.tensor_slicer(evals, evecs, scalar_colors=color1, sphere=sphere, scale=dki_fit.md/refmd)\n",
    "tensor_actor.display(y=0)\n",
    "tensor_actor.RotateX(110)\n",
    "scene.add(tensor_actor)\n",
    "\n",
    "dir_actor1 = actor.peak_slicer(np.array([[[stick1]]]), np.array([[[1.4]]]), linewidth=4, colors=(0, 0, 1))\n",
    "dir_actor1.display(y=0)\n",
    "dir_actor1.RotateX(110)\n",
    "scene.add(dir_actor1)\n",
    "\n",
    "window.show(scene)\n",
    "\n",
    "window.record(scene, n_frames=1, out_path='case3_dt_gt.png', size=(600, 600))"
   ]
  },
  {
   "cell_type": "markdown",
   "metadata": {},
   "source": [
    "Plot ground truth kurtosis tensor"
   ]
  },
  {
   "cell_type": "code",
   "execution_count": 24,
   "metadata": {},
   "outputs": [],
   "source": [
    "akc = dki_fit.akc(sphere)\n",
    "\n",
    "scene = window.Scene()\n",
    "dki_actor = actor.odf_slicer(np.array([[[akc]]]), sphere=sphere, colormap='Wistia', scale=dki_fit.mk()/refmk)\n",
    "dki_actor.display(y=0)\n",
    "dki_actor.RotateX(110)\n",
    "scene.add(dki_actor)\n",
    "\n",
    "\n",
    "dir_actor1 = actor.peak_slicer(np.array([[[stick1]]]), np.array([[[1.2]]]), linewidth=4, colors=(0, 0, 1))\n",
    "dir_actor1.display(y=0)\n",
    "dir_actor1.RotateX(110)\n",
    "scene.add(dir_actor1)\n",
    "\n",
    "window.show(scene)\n",
    "\n",
    "window.record(scene, n_frames=1, out_path='case3_kt_gt.png', size=(600, 600))"
   ]
  },
  {
   "cell_type": "markdown",
   "metadata": {},
   "source": [
    "Plot reference DTI diffusion tensor fit"
   ]
  },
  {
   "cell_type": "code",
   "execution_count": 25,
   "metadata": {},
   "outputs": [],
   "source": [
    "signal3, dt, kt = multi_tensor_dki(gtab, mevals, S0, angles, fractions, snr=None)\n",
    "\n",
    "dti_model = dti.TensorModel(gtab, fit_method='NLLS')\n",
    "dti_fit = dti_model.fit(signal3)\n",
    "\n",
    "evals = np.array([[[dti_fit.evals]]])\n",
    "evecs = np.array([[[dti_fit.evecs]]])\n",
    "\n",
    "color1 = np.zeros(evals.shape)\n",
    "color1[0, 0, 0, 0] = dti_fit.md/refmd;  #red\n",
    "\n",
    "scene = window.Scene()\n",
    "\n",
    "tensor_actor = actor.tensor_slicer(evals, evecs, scalar_colors=color1, sphere=sphere, scale=dti_fit.md/refmd)\n",
    "tensor_actor.display(y=0)\n",
    "tensor_actor.RotateX(110)\n",
    "scene.add(tensor_actor)\n",
    "\n",
    "dir_actor1 = actor.peak_slicer(np.array([[[stick1]]]), np.array([[[1.4]]]), linewidth=4, colors=(0, 0, 1))\n",
    "dir_actor1.display(y=0)\n",
    "dir_actor1.RotateX(110)\n",
    "scene.add(dir_actor1)\n",
    "\n",
    "window.show(scene)\n",
    "\n",
    "window.record(scene, n_frames=1, out_path='case3_dt_dti_fit.png', size=(600, 600))"
   ]
  },
  {
   "cell_type": "markdown",
   "metadata": {},
   "source": [
    "Plot DKI diffusion tensor fit"
   ]
  },
  {
   "cell_type": "code",
   "execution_count": 26,
   "metadata": {},
   "outputs": [],
   "source": [
    "dki_fit = dki_model.fit(signal3)\n",
    "\n",
    "evals = np.array([[[dki_fit.evals]]])\n",
    "evecs = np.array([[[dki_fit.evecs]]])\n",
    "\n",
    "color1 = np.zeros(evals.shape)\n",
    "color1[0, 0, 0, 0] = dki_fit.md/refmd;  #red\n",
    "\n",
    "scene = window.Scene()\n",
    "\n",
    "tensor_actor = actor.tensor_slicer(evals, evecs, scalar_colors=color1, sphere=sphere, scale=dki_fit.md/refmd)\n",
    "tensor_actor.display(y=0)\n",
    "tensor_actor.RotateX(110)\n",
    "scene.add(tensor_actor)\n",
    "\n",
    "dir_actor1 = actor.peak_slicer(np.array([[[stick1]]]), np.array([[[1.4]]]), linewidth=4, colors=(0, 0, 1))\n",
    "dir_actor1.display(y=0)\n",
    "dir_actor1.RotateX(110)\n",
    "scene.add(dir_actor1)\n",
    "\n",
    "window.show(scene)\n",
    "\n",
    "window.record(scene, n_frames=1, out_path='case3_dt_dki_fit.png', size=(600, 600))"
   ]
  },
  {
   "cell_type": "markdown",
   "metadata": {},
   "source": [
    "Plot DKI kurtosis tensor fit"
   ]
  },
  {
   "cell_type": "code",
   "execution_count": 27,
   "metadata": {},
   "outputs": [],
   "source": [
    "akc = dki_fit.akc(sphere)\n",
    "\n",
    "scene = window.Scene()\n",
    "dki_actor = actor.odf_slicer(np.array([[[akc]]]), sphere=sphere, colormap='Wistia', scale=dki_fit.mk()/refmk)\n",
    "dki_actor.display(y=0)\n",
    "dki_actor.RotateX(110)\n",
    "scene.add(dki_actor)\n",
    "\n",
    "\n",
    "dir_actor1 = actor.peak_slicer(np.array([[[stick1]]]), np.array([[[1.2]]]), linewidth=4, colors=(0, 0, 1))\n",
    "dir_actor1.display(y=0)\n",
    "dir_actor1.RotateX(110)\n",
    "scene.add(dir_actor1)\n",
    "\n",
    "window.show(scene)\n",
    "\n",
    "window.record(scene, n_frames=1, out_path='case3_kt_dki_fit.png', size=(600, 600))"
   ]
  },
  {
   "cell_type": "markdown",
   "metadata": {},
   "source": [
    "# Voxel Case 4 (Crossing Fibers  )¶"
   ]
  },
  {
   "cell_type": "code",
   "execution_count": 28,
   "metadata": {},
   "outputs": [],
   "source": [
    "eval1 = [1.4e-3, 0.1e-3, 0.1e-3]\n",
    "eval2 = [2e-3, 0.5e-3, 0.5e-3]\n",
    "eval3 = [1.4e-3, 0.1e-3, 0.1e-3]\n",
    "eval4 = [2e-3, 0.5e-3, 0.5e-3]\n",
    "angle1 = (30.0, 0.0)\n",
    "angle2 = (30.0, 0.0)\n",
    "angle3 = (150.0, 0.0)\n",
    "angle4 = (150.0, 0.0)\n",
    "stick1 = _check_directions([angle1])\n",
    "stick2 = _check_directions([angle2])\n",
    "stick3 = _check_directions([angle3])\n",
    "stick4 = _check_directions([angle4])\n",
    "evec1 = all_tensor_evecs(stick1[0])\n",
    "evec2 = all_tensor_evecs(stick2[0])\n",
    "evec3 = all_tensor_evecs(stick3[0])\n",
    "evec4 = all_tensor_evecs(stick4[0])"
   ]
  },
  {
   "cell_type": "markdown",
   "metadata": {},
   "source": [
    "Plot case 4 components"
   ]
  },
  {
   "cell_type": "code",
   "execution_count": 29,
   "metadata": {},
   "outputs": [],
   "source": [
    "evals = np.array([np.array([[eval1, eval2]]),\n",
    "                   np.array([[eval3, eval4]])])\n",
    "stick = _check_directions(angle)\n",
    "evecs =  np.array([[[evec1, evec2]],\n",
    "                   [[evec3, evec4]]])\n",
    "\n",
    "colors = np.zeros(evals.shape)\n",
    "\n",
    "colors[0, 0, 0, 2] = 1;  #Blue\n",
    "\n",
    "colors[0, 0, 1, 0] = 1;  #Yellow\n",
    "colors[0, 0, 1, 1] = 1;\n",
    "\n",
    "colors[1, 0, 0, 2] = 1;  #Blue\n",
    "\n",
    "colors[1, 0, 1, 0] = 1;  #Yellow\n",
    "colors[1, 0, 1, 1] = 1;\n",
    "\n",
    "scene = window.Scene()\n",
    "\n",
    "tensor_actor = actor.tensor_slicer(evals, evecs, scalar_colors=colors, sphere=sphere, scale=0.8)\n",
    "tensor_actor.display(y=0)\n",
    "tensor_actor.RotateX(100)\n",
    "scene.add(tensor_actor)\n",
    "\n",
    "window.show(scene)\n",
    "\n",
    "window.record(scene, n_frames=1, out_path='case4.png', size=(600, 600))"
   ]
  },
  {
   "cell_type": "markdown",
   "metadata": {},
   "source": [
    "Plot gt DT"
   ]
  },
  {
   "cell_type": "code",
   "execution_count": 30,
   "metadata": {},
   "outputs": [],
   "source": [
    "mevals = [eval1, eval2, eval3, eval4]\n",
    "S0 = 1\n",
    "angles = [angle1, angle2, angle3, angle4]\n",
    "fractions = [25.0, 25.0, 25.0, 25.0]\n",
    "\n",
    "signal4_gt, dt, kt = multi_tensor_dki(gtab, mevals, S0, angles, fractions, snr=None)\n",
    "\n",
    "dki_fit = dki_model.fit(signal4_gt)\n",
    "\n",
    "evals = np.array([[[dki_fit.evals]]])\n",
    "evecs = np.array([[[dki_fit.evecs]]])\n",
    "\n",
    "#reffa = dki_fit.fa\n",
    "#refmd = dki_fit.md\n",
    "#refmk = dki_fit.mk()\n",
    "\n",
    "color1 = np.zeros(evals.shape)\n",
    "color1[0, 0, 0, 0] = dki_fit.md/refmd;  #red\n",
    "\n",
    "scene = window.Scene()\n",
    "\n",
    "tensor_actor = actor.tensor_slicer(evals, evecs, scalar_colors=color1, sphere=sphere, scale=dki_fit.md/refmd)\n",
    "tensor_actor.display(y=0)\n",
    "tensor_actor.RotateX(100)\n",
    "scene.add(tensor_actor)\n",
    "\n",
    "dir_actor1 = actor.peak_slicer(np.array([[[stick1]]]), np.array([[[1.2]]]), linewidth=4, colors=(0, 0, 1))\n",
    "dir_actor1.display(y=0)\n",
    "dir_actor1.RotateX(100)\n",
    "scene.add(dir_actor1)\n",
    "\n",
    "dir_actor2 = actor.peak_slicer(np.array([[[stick3]]]), np.array([[[1.2]]]), linewidth=4, colors=(0, 0, 1))\n",
    "dir_actor2.display(y=0)\n",
    "dir_actor2.RotateX(100)\n",
    "scene.add(dir_actor2)\n",
    "\n",
    "dtidir_actor = actor.peak_slicer(np.array([[[dki_fit.directions[0]]]]), np.array([[[1.2]]]), linewidth=3, colors=(1, 0, 0))\n",
    "dtidir_actor.display(y=0)\n",
    "dtidir_actor.RotateX(100)\n",
    "scene.add(dtidir_actor)\n",
    "\n",
    "\n",
    "window.show(scene)\n",
    "\n",
    "window.record(scene, n_frames=1, out_path='case4_dt_gt.png', size=(600, 600))"
   ]
  },
  {
   "cell_type": "markdown",
   "metadata": {},
   "source": [
    "Plot gt KT"
   ]
  },
  {
   "cell_type": "code",
   "execution_count": 31,
   "metadata": {},
   "outputs": [],
   "source": [
    "akc = dki_fit.akc(sphere)\n",
    "\n",
    "scene = window.Scene()\n",
    "dki_actor = actor.odf_slicer(np.array([[[akc]]]), sphere=sphere, colormap='Wistia', scale=dki_fit.mk()/refmk)\n",
    "dki_actor.display(y=0)\n",
    "dki_actor.RotateX(100)\n",
    "scene.add(dki_actor)\n",
    "\n",
    "\n",
    "dir_actor1 = actor.peak_slicer(np.array([[[stick1]]]), np.array([[[1.2]]]), linewidth=4, colors=(0, 0, 1))\n",
    "dir_actor1.display(y=0)\n",
    "dir_actor1.RotateX(100)\n",
    "scene.add(dir_actor1)\n",
    "\n",
    "dir_actor2 = actor.peak_slicer(np.array([[[stick3]]]), np.array([[[1.2]]]), linewidth=4, colors=(0, 0, 1))\n",
    "dir_actor2.display(y=0)\n",
    "dir_actor2.RotateX(100)\n",
    "scene.add(dir_actor2)\n",
    "\n",
    "\n",
    "dtidir_actor = actor.peak_slicer(np.array([[[dki_fit.directions[0]]]]), np.array([[[1.2]]]), linewidth=3, colors=(1, 0, 0))\n",
    "dtidir_actor.display(y=0)\n",
    "dtidir_actor.RotateX(100)\n",
    "scene.add(dtidir_actor)\n",
    "\n",
    "window.show(scene)\n",
    "\n",
    "window.record(scene, n_frames=1, out_path='case4_kt_gt.png', size=(600, 600))"
   ]
  },
  {
   "cell_type": "code",
   "execution_count": 32,
   "metadata": {},
   "outputs": [],
   "source": [
    "signal4, st = multi_tensor(gtab, mevals, S0, angles, fractions, snr=None)"
   ]
  },
  {
   "cell_type": "markdown",
   "metadata": {},
   "source": [
    "Plot ref DTI DT"
   ]
  },
  {
   "cell_type": "code",
   "execution_count": 33,
   "metadata": {},
   "outputs": [],
   "source": [
    "dti_fit = dti_model.fit(signal4)\n",
    "\n",
    "evals = np.array([[[dti_fit.evals]]])\n",
    "evecs = np.array([[[dti_fit.evecs]]])\n",
    "\n",
    "color1 = np.zeros(evals.shape)\n",
    "color1[0, 0, 0, 0] = dti_fit.md/refmd;  #red\n",
    "\n",
    "scene = window.Scene()\n",
    "\n",
    "tensor_actor = actor.tensor_slicer(evals, evecs, scalar_colors=color1, sphere=sphere, scale=dti_fit.md/refmd)\n",
    "tensor_actor.display(y=0)\n",
    "tensor_actor.RotateX(100)\n",
    "scene.add(tensor_actor)\n",
    "\n",
    "dir_actor1 = actor.peak_slicer(np.array([[[stick1]]]), np.array([[[1.2]]]), linewidth=4, colors=(0, 0, 1))\n",
    "dir_actor1.display(y=0)\n",
    "dir_actor1.RotateX(100)\n",
    "scene.add(dir_actor1)\n",
    "\n",
    "dir_actor2 = actor.peak_slicer(np.array([[[stick3]]]), np.array([[[1.2]]]), linewidth=4, colors=(0, 0, 1))\n",
    "dir_actor2.display(y=0)\n",
    "dir_actor2.RotateX(100)\n",
    "scene.add(dir_actor2)\n",
    "\n",
    "dtidir_actor = actor.peak_slicer(np.array([[[dti_fit.directions[0]]]]), np.array([[[1.2]]]), linewidth=3, colors=(1, 0, 0))\n",
    "dtidir_actor.display(y=0)\n",
    "dtidir_actor.RotateX(100)\n",
    "scene.add(dtidir_actor)\n",
    "\n",
    "\n",
    "window.show(scene)\n",
    "\n",
    "window.record(scene, n_frames=1, out_path='case4_dt_dti_fit.png', size=(600, 600))"
   ]
  },
  {
   "cell_type": "markdown",
   "metadata": {},
   "source": [
    "Plot DKI DT"
   ]
  },
  {
   "cell_type": "code",
   "execution_count": 34,
   "metadata": {},
   "outputs": [],
   "source": [
    "dki_fit = dki_model.fit(signal4)\n",
    "\n",
    "evals = np.array([[[dti_fit.evals]]])\n",
    "evecs = np.array([[[dti_fit.evecs]]])\n",
    "\n",
    "color1 = np.zeros(evals.shape)\n",
    "color1[0, 0, 0, 0] = dki_fit.md/refmd;  #red\n",
    "\n",
    "scene = window.Scene()\n",
    "\n",
    "tensor_actor = actor.tensor_slicer(evals, evecs, scalar_colors=color1, sphere=sphere, scale=dki_fit.md/refmd)\n",
    "tensor_actor.display(y=0)\n",
    "tensor_actor.RotateX(100)\n",
    "scene.add(tensor_actor)\n",
    "\n",
    "dir_actor1 = actor.peak_slicer(np.array([[[stick1]]]), np.array([[[1.2]]]), linewidth=4, colors=(0, 0, 1))\n",
    "dir_actor1.display(y=0)\n",
    "dir_actor1.RotateX(100)\n",
    "scene.add(dir_actor1)\n",
    "\n",
    "dir_actor2 = actor.peak_slicer(np.array([[[stick3]]]), np.array([[[1.2]]]), linewidth=4, colors=(0, 0, 1))\n",
    "dir_actor2.display(y=0)\n",
    "dir_actor2.RotateX(100)\n",
    "scene.add(dir_actor2)\n",
    "\n",
    "dtidir_actor = actor.peak_slicer(np.array([[[dki_fit.directions[0]]]]), np.array([[[1.2]]]), linewidth=3, colors=(1, 0, 0))\n",
    "dtidir_actor.display(y=0)\n",
    "dtidir_actor.RotateX(100)\n",
    "scene.add(dtidir_actor)\n",
    "\n",
    "\n",
    "window.show(scene)\n",
    "\n",
    "window.record(scene, n_frames=1, out_path='case4_dt_dki_fit.png', size=(600, 600))"
   ]
  },
  {
   "cell_type": "markdown",
   "metadata": {},
   "source": [
    "Plot DKI KT"
   ]
  },
  {
   "cell_type": "code",
   "execution_count": 35,
   "metadata": {},
   "outputs": [],
   "source": [
    "akc = dki_fit.akc(sphere)\n",
    "\n",
    "scene = window.Scene()\n",
    "dki_actor = actor.odf_slicer(np.array([[[akc]]]), sphere=sphere, colormap='Wistia', scale=dki_fit.mk()/refmk)\n",
    "dki_actor.display(y=0)\n",
    "dki_actor.RotateX(100)\n",
    "scene.add(dki_actor)\n",
    "\n",
    "\n",
    "dir_actor1 = actor.peak_slicer(np.array([[[stick1]]]), np.array([[[1.2]]]), linewidth=4, colors=(0, 0, 1))\n",
    "dir_actor1.display(y=0)\n",
    "dir_actor1.RotateX(100)\n",
    "scene.add(dir_actor1)\n",
    "\n",
    "dir_actor2 = actor.peak_slicer(np.array([[[stick3]]]), np.array([[[1.2]]]), linewidth=4, colors=(0, 0, 1))\n",
    "dir_actor2.display(y=0)\n",
    "dir_actor2.RotateX(100)\n",
    "scene.add(dir_actor2)\n",
    "\n",
    "dtidir_actor = actor.peak_slicer(np.array([[[dki_fit.directions[0]]]]), np.array([[[1.2]]]), linewidth=3, colors=(1, 0, 0))\n",
    "dtidir_actor.display(y=0)\n",
    "dtidir_actor.RotateX(100)\n",
    "scene.add(dtidir_actor)\n",
    "\n",
    "window.show(scene)\n",
    "\n",
    "window.record(scene, n_frames=1, out_path='case4_kt_dki_fit.png', size=(600, 600))"
   ]
  },
  {
   "cell_type": "markdown",
   "metadata": {},
   "source": [
    "# Figure 2"
   ]
  },
  {
   "cell_type": "code",
   "execution_count": 36,
   "metadata": {},
   "outputs": [],
   "source": [
    "dwi = np.zeros((4,) + gtab.bvals.shape)\n",
    "dwi[0, :] = signal1\n",
    "dwi[1, :] = signal2\n",
    "dwi[2, :] = signal3\n",
    "dwi[3, :] = signal4"
   ]
  },
  {
   "cell_type": "markdown",
   "metadata": {},
   "source": [
    "Define reconstruction models"
   ]
  },
  {
   "cell_type": "code",
   "execution_count": 37,
   "metadata": {},
   "outputs": [],
   "source": [
    "dki_model = dki.DiffusionKurtosisModel(gtab, fit_method='NLS')\n",
    "dki_fit = dki_model.fit(dwi)\n",
    "fa = dki_fit.fa\n",
    "md = dki_fit.md\n",
    "rd = dki_fit.rd\n",
    "ad = dki_fit.ad\n",
    "mk = dki_fit.mk()\n",
    "rk = dki_fit.rk()\n",
    "ak = dki_fit.ak()\n",
    "mkt = dki_fit.mkt()\n",
    "kfa = dki_fit.kfa\n",
    "\n",
    "msdki_model = msdki.MeanDiffusionKurtosisModel(gtab)\n",
    "msdki_fit = msdki_model.fit(dwi)\n",
    "msk = msdki_fit.msk"
   ]
  },
  {
   "cell_type": "code",
   "execution_count": 38,
   "metadata": {},
   "outputs": [
    {
     "data": {
      "image/png": "[encoded data removed]",
      "text/plain": [
       "<Figure size 864x1080 with 12 Axes>"
      ]
     },
     "metadata": {
      "needs_background": "light"
     },
     "output_type": "display_data"
    }
   ],
   "source": [
    "cases = [1, 2, 3, 4]\n",
    "\n",
    "fig, axs = plt.subplots(nrows=3, ncols=4, figsize=(12, 15))\n",
    "fig.subplots_adjust(hspace=0.3, wspace=0.3)\n",
    "\n",
    "axs[0, 0].bar(cases, md*1000, linewidth=1.0, color=[0.0, 0.0, 0.8])\n",
    "axs[0, 0].set_title('A) MD ($x10^{-3}mm^2/s$)')\n",
    "axs[0, 1].bar(cases, rd*1000, linewidth=1.0, color=[0.0, 0.0, 0.4])\n",
    "axs[0, 1].set_title('B) RD ($x10^{-3}mm^2/s$)')\n",
    "axs[0, 2].bar(cases, ad*1000, linewidth=1.0, color=[0.0, 0.8, 0.8])\n",
    "axs[0, 2].set_title('C) AD ($x10^{-3}mm^2/s$)')\n",
    "axs[0, 3].bar(cases, fa, linewidth=1.0, color=[1.0, 0.0, 0.0])\n",
    "axs[0, 3].set_title('D) FA')\n",
    "\n",
    "axs[1, 0].bar(cases, mk, linewidth=1.0, color=[0.0, 0.8, 0.0])\n",
    "axs[1, 0].set_title('E) MK')\n",
    "axs[1, 1].bar(cases, rk, linewidth=1.0, color=[0.0, 0.5, 0.0])\n",
    "axs[1, 1].set_title('F) RK')\n",
    "axs[1, 2].bar(cases, ak, linewidth=1.0, color=[0.8, 0.8, 0.0])\n",
    "axs[1, 2].set_title('G) AK')\n",
    "axs[1, 3].bar(cases, kfa, linewidth=1.0, color=[1, 0.5, 0.0])\n",
    "axs[1, 3].set_title('H) KFA')\n",
    "\n",
    "\n",
    "axs[2, 1].bar(cases, mkt, linewidth=1.0, color=[0.7, 0.7, 0.7])\n",
    "axs[2, 1].set_title('I) MKT')\n",
    "axs[2, 2].bar(cases, msk, linewidth=1.0, color=[0.2, 0.0, 0.4])\n",
    "axs[2, 2].set_title('J) MSK')\n",
    "\n",
    "for ii in range(3):\n",
    "    for jj in range(4):\n",
    "        axs[ii, jj].set_xticks(cases)\n",
    "        axs[ii, jj].set_xticklabels(['C1', 'C2', 'C3', 'C4'])\n",
    "\n",
    "axs[2, 0].axis('off')\n",
    "axs[2, 3].axis('off')\n",
    "\n",
    "fig.savefig('Figure2.png', bbox_inches='tight')"
   ]
  }
 ],
 "metadata": {
  "kernelspec": {
   "display_name": "Python 3",
   "language": "python",
   "name": "python3"
  },
  "language_info": {
   "codemirror_mode": {
    "name": "ipython",
    "version": 3
   },
   "file_extension": ".py",
   "mimetype": "text/x-python",
   "name": "python",
   "nbconvert_exporter": "python",
   "pygments_lexer": "ipython3",
   "version": "3.8.5"
  }
 },
 "nbformat": 4,
 "nbformat_minor": 2
}
